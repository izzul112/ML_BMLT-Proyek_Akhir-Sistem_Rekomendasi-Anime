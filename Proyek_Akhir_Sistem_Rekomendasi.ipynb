{
  "nbformat": 4,
  "nbformat_minor": 0,
  "metadata": {
    "colab": {
      "name": "Proyek Akhir : Sistem Rekomendasi.ipynb",
      "provenance": [],
      "collapsed_sections": [],
      "authorship_tag": "ABX9TyNg6nEL6vHm63YGMi6HIYZD",
      "include_colab_link": true
    },
    "kernelspec": {
      "name": "python3",
      "display_name": "Python 3"
    },
    "language_info": {
      "name": "python"
    }
  },
  "cells": [
    {
      "cell_type": "markdown",
      "metadata": {
        "id": "view-in-github",
        "colab_type": "text"
      },
      "source": [
        "<a href=\"https://colab.research.google.com/github/izzul112/ML_BMLT-Proyek_Akhir-Sistem_Rekomendasi-Anime/blob/main/Proyek_Akhir_Sistem_Rekomendasi.ipynb\" target=\"_parent\"><img src=\"https://colab.research.google.com/assets/colab-badge.svg\" alt=\"Open In Colab\"/></a>"
      ]
    },
    {
      "cell_type": "markdown",
      "source": [
        "# **Laporan Proyek Machine Learning - Habib Azizul Haq**\n",
        "\n",
        "# Project Overview\n",
        "\n",
        "Sistem Rekomendasi Anime\n",
        "\n",
        "Content-based Filtering"
      ],
      "metadata": {
        "id": "lt0bDbm7PzME"
      }
    },
    {
      "cell_type": "markdown",
      "source": [
        "# Business Understanding\n",
        "\n",
        "**Problem Statements**\n",
        "Menjelaskan pernyataan masalah latar belakang:\n",
        "\n",
        "*   Dari serangkaian fitur yang ada, fitur apa yang paling berpengaruh terhadap kelas harga suatu hp?\n",
        "*   Berapa kelas harga pasar hp dengan karakteristik atau fitur tertentu?\n",
        "\n",
        "**Goals**\n",
        "Menjelaskan tujuan dari pernyataan masalah:\n",
        "\n",
        "*   Mengetahui fitur yang paling berkorelasi dengan kelas harga hp.\n",
        "*   Membuat model machine learning yang dapat memprediksi kelas harga hp seakurat mungkin berdasarkan fitur-fitur yang ada.\n",
        "\n",
        "**Solution statements**\n",
        "\n",
        "*   Untuk menghasilkan model yang optimal namun tetap sederhana kita akan menggunakan 3 algoritma yaitu KNeighborsClassifier, RandomForestClassifier, GradientBoostingClassifier.\n",
        "*   Dari 3 algoritma di atas kita akan menggunakan metrik Mean Absolute Error yang memang cocok untuk kasus klasifikasi, untuk melihat pada ketiga algoritma diatas mana yang paling powerfull.\n"
      ],
      "metadata": {
        "id": "agVEwmgeQJhR"
      }
    },
    {
      "cell_type": "markdown",
      "source": [
        "# **Data Understanding**\n",
        "\n",
        "Kita akan menggunakan dataset yang terdiri dari 2 buah file .csv. Yaitu anime.csv yang berisi judul anime dan rating yang berisi rating dari suatu anime.\n",
        "\n",
        "Sumber dataset yang akan kita gunakan berasal dari [Kaggle](https://www.kaggle.com/datasets/CooperUnion/anime-recommendations-database). Yang di publis oleh COOPERUNION.\n",
        "\n",
        "Kita lanjut dengan melihat isi variabel dari setiap file kita mulai dari file anime.csv terlebih dahulu yang mempunyai 7 variabel:\n",
        "\n",
        "*   anime_id : id unik dari situs myanimelist.net yang mengidentifikasi anime.\n",
        "*   name : nama lengkap anime.\n",
        "*   genre : daftar genre yang dipisahkan koma untuk anime setiap anime.\n",
        "*   type : setiap anime memiliki tipe seperti movie, TV, OVA, etc.\n",
        "*   episodes : berapa jumlah episode dari suatu judul anime, biasanya untuk anime musiman 12-13 episode per musim. (1 jika itu movie).\n",
        "*   rating : rating rata-rata dari 10 untuk anime.\n",
        "*   members - jumlah anggota komunitas yang ada di anime ini \"group\".\n",
        "\n",
        "Sedangkan rating.csv hanya memiliki 3 variabel:\n",
        "\n",
        "*   user_id : ID pengguna yang dibuat secara acak yang tidak dapat diidentifikasi.\n",
        "*   anime_id : anime yang telah dinilai oleh pengguna ini.\n",
        "*   rating : rating dari 10 yang telah ditetapkan pengguna ini (-1 jika pengguna menontonnya tetapi tidak memberikan rating).\n",
        "\n",
        "Oh iya semua sumber asli dari dataset diambil dari situs [myanimelist](https://myanimelist.net/), yang merupakan website yang sering di kunjungi bagi pecinta amine dan manga.\n",
        "\n",
        "Kita akan melakukan sedikit analisis untuk mengethui beberapa hal tentang variabel diatas diantaranya :\n",
        "1.  Kita akan melihat ada berapa jumlah baris dari data dalam tampilan tabel.\n",
        "2.  Kita akan melihat tipe data dari 2 file .csv di dataset.\n",
        "3.  Kita akan mengecek deskripsi statistik data.\n",
        "4.  Kita akan melihat apakah ada data yang kosong / tidak ada isinya.\n",
        "5.  Kita akan melihat apakah data kita memiliki outliers.\n",
        "6.  Kita akan melihat variabel apa saja yang memiliki hubungan yang kuat atas klasifikasi harga suatu hp."
      ],
      "metadata": {
        "id": "ggcKg2d6Qf-h"
      }
    },
    {
      "cell_type": "code",
      "execution_count": 3,
      "metadata": {
        "id": "ntpEnt8pKdQ3"
      },
      "outputs": [],
      "source": [
        "# Import library\n",
        "import pandas as pd\n",
        "import numpy as np \n",
        "import tensorflow as tf\n",
        "from tensorflow import keras\n",
        "from keras import layers\n",
        "from pathlib import Path\n",
        "import matplotlib.pyplot as plt"
      ]
    },
    {
      "cell_type": "code",
      "source": [
        ""
      ],
      "metadata": {
        "id": "J3F20t1XZyu8"
      },
      "execution_count": null,
      "outputs": []
    }
  ]
}